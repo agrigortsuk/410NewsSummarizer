{
 "cells": [
  {
   "cell_type": "markdown",
   "metadata": {},
   "source": [
    "## 410 Final Project: Generating Summaries for News Articles\n",
    "Aaron Kuhstoss, Shalin Mehta, and Aleksandra Grigortsuk"
   ]
  },
  {
   "cell_type": "markdown",
   "metadata": {},
   "source": [
    "### Imports"
   ]
  },
  {
   "cell_type": "code",
   "execution_count": 16,
   "metadata": {},
   "outputs": [],
   "source": [
    "import matplotlib.pyplot as plt\n",
    "import seaborn as sns\n",
    "import pandas as pd\n",
    "from langdetect import detect\n",
    "import random \n",
    "\n",
    "import spacy\n",
    "from spacy.lang.en.stop_words import STOP_WORDS\n",
    "from string import punctuation\n",
    "from heapq import nlargest"
   ]
  },
  {
   "cell_type": "markdown",
   "metadata": {},
   "source": [
    " ### Data Preprocessing\n",
    " "
   ]
  },
  {
   "cell_type": "code",
   "execution_count": 32,
   "metadata": {},
   "outputs": [
    {
     "name": "stdout",
     "output_type": "stream",
     "text": [
      "86560\n"
     ]
    }
   ],
   "source": [
    "# import the dataset\n",
    "df = pd.read_csv(\"Latest_News.csv\")\n",
    "print(len(df))\n",
    "\n",
    "# filtering dataset with English articles and non-NA \n",
    "def detect_language(text):\n",
    "    try:\n",
    "        return detect(text)\n",
    "    except:\n",
    "        return None\n",
    "\n",
    "# Subset df to make it workable, since python is computationally slow\n",
    "random.seed(410)\n",
    "df_subset = df.sample(n=15000)\n",
    "\n",
    "# Apply the language detection function to df\n",
    "df_subset['detected_language'] = df_subset['content'].apply(detect_language)\n",
    "english_articles = df_subset[df_subset['detected_language'] == 'en']"
   ]
  },
  {
   "cell_type": "code",
   "execution_count": 33,
   "metadata": {},
   "outputs": [
    {
     "name": "stdout",
     "output_type": "stream",
     "text": [
      "1157\n",
      "2126.0319792566984\n",
      "244.98260073260073\n",
      "0\n",
      "0\n"
     ]
    },
    {
     "data": {
      "text/html": [
       "<div>\n",
       "<style scoped>\n",
       "    .dataframe tbody tr th:only-of-type {\n",
       "        vertical-align: middle;\n",
       "    }\n",
       "\n",
       "    .dataframe tbody tr th {\n",
       "        vertical-align: top;\n",
       "    }\n",
       "\n",
       "    .dataframe thead th {\n",
       "        text-align: right;\n",
       "    }\n",
       "</style>\n",
       "<table border=\"1\" class=\"dataframe\">\n",
       "  <thead>\n",
       "    <tr style=\"text-align: right;\">\n",
       "      <th></th>\n",
       "      <th>title</th>\n",
       "      <th>link</th>\n",
       "      <th>keywords</th>\n",
       "      <th>creator</th>\n",
       "      <th>video_url</th>\n",
       "      <th>description</th>\n",
       "      <th>content</th>\n",
       "      <th>pubDate</th>\n",
       "      <th>full_description</th>\n",
       "      <th>image_url</th>\n",
       "      <th>source_id</th>\n",
       "      <th>detected_language</th>\n",
       "    </tr>\n",
       "  </thead>\n",
       "  <tbody>\n",
       "    <tr>\n",
       "      <th>20062</th>\n",
       "      <td>Quebec coroner to hear from final witnesses in...</td>\n",
       "      <td>https://panow.com/2021/10/25/quebec-coroner-to...</td>\n",
       "      <td>NaN</td>\n",
       "      <td>NaN</td>\n",
       "      <td>NaN</td>\n",
       "      <td>MONTREAL - A coroner's inquest into a suburban...</td>\n",
       "      <td>MONTREAL — A coroner’s inquest into a suburban...</td>\n",
       "      <td>2021-10-25 17:56:39</td>\n",
       "      <td>MONTREAL — A coroner’s inquest into a suburban...</td>\n",
       "      <td>https://s3.amazonaws.com/socast-superdesk/medi...</td>\n",
       "      <td>panow</td>\n",
       "      <td>en</td>\n",
       "    </tr>\n",
       "    <tr>\n",
       "      <th>13142</th>\n",
       "      <td>Kelly Stafford Thanks Detroit Fans After Husba...</td>\n",
       "      <td>https://www.si.com/nfl/2021/10/25/kelly-staffo...</td>\n",
       "      <td>['Matthew Stafford', 'Wire', 'Detroit Lions', ...</td>\n",
       "      <td>['Joseph Salvador']</td>\n",
       "      <td>NaN</td>\n",
       "      <td>Matthew Stafford threw for 334 yards and three...</td>\n",
       "      <td>Matthew Stafford threw for 334 yards and three...</td>\n",
       "      <td>2021-10-25 21:04:43</td>\n",
       "      <td>Rams quarterback Matthew Stafford's wife, Kell...</td>\n",
       "      <td>http://www.si.com/.image/c_limit%2Ccs_srgb%2Cf...</td>\n",
       "      <td>si</td>\n",
       "      <td>en</td>\n",
       "    </tr>\n",
       "    <tr>\n",
       "      <th>60887</th>\n",
       "      <td>Ricciardo accused of 'dirty' driving by rival</td>\n",
       "      <td>https://wwos.nine.com.au/motorsport/f1-2021-da...</td>\n",
       "      <td>NaN</td>\n",
       "      <td>['wwos']</td>\n",
       "      <td>NaN</td>\n",
       "      <td>Carlos Sainz and Daniel Ricciardo banged wheel...</td>\n",
       "      <td>Australia's Daniel Ricciardo has been accused ...</td>\n",
       "      <td>2021-10-24 22:53:20</td>\n",
       "      <td>Australia's Daniel Ricciardo has been accused ...</td>\n",
       "      <td>https://vms-network-images-prod.s3-ap-southeas...</td>\n",
       "      <td>nine</td>\n",
       "      <td>en</td>\n",
       "    </tr>\n",
       "    <tr>\n",
       "      <th>8072</th>\n",
       "      <td>Dana White addresses Nate Diaz possibly leavin...</td>\n",
       "      <td>https://www.mmafighting.com/2021/10/25/2274587...</td>\n",
       "      <td>NaN</td>\n",
       "      <td>['Damon Martin']</td>\n",
       "      <td>NaN</td>\n",
       "      <td>NaN</td>\n",
       "      <td>Free agency has become much more commonplace i...</td>\n",
       "      <td>2021-10-26 01:00:00</td>\n",
       "      <td>Free agency has become much more commonplace i...</td>\n",
       "      <td>NaN</td>\n",
       "      <td>mmafighting</td>\n",
       "      <td>en</td>\n",
       "    </tr>\n",
       "    <tr>\n",
       "      <th>1098</th>\n",
       "      <td>Digital University Kerala professor features i...</td>\n",
       "      <td>https://www.edexlive.com/news/2021/oct/26/digi...</td>\n",
       "      <td>NaN</td>\n",
       "      <td>['Edex Live']</td>\n",
       "      <td>NaN</td>\n",
       "      <td>Under DUK, Dr James is the professor in charge...</td>\n",
       "      <td>The Associate Dean (Academic) of the Digital U...</td>\n",
       "      <td>2021-10-26 06:01:00</td>\n",
       "      <td>The Associate Dean (Academic) of the Digital U...</td>\n",
       "      <td>https://images.edexlive.com/uploads/user/image...</td>\n",
       "      <td>edexlive</td>\n",
       "      <td>en</td>\n",
       "    </tr>\n",
       "  </tbody>\n",
       "</table>\n",
       "</div>"
      ],
      "text/plain": [
       "                                                   title  \\\n",
       "20062  Quebec coroner to hear from final witnesses in...   \n",
       "13142  Kelly Stafford Thanks Detroit Fans After Husba...   \n",
       "60887      Ricciardo accused of 'dirty' driving by rival   \n",
       "8072   Dana White addresses Nate Diaz possibly leavin...   \n",
       "1098   Digital University Kerala professor features i...   \n",
       "\n",
       "                                                    link  \\\n",
       "20062  https://panow.com/2021/10/25/quebec-coroner-to...   \n",
       "13142  https://www.si.com/nfl/2021/10/25/kelly-staffo...   \n",
       "60887  https://wwos.nine.com.au/motorsport/f1-2021-da...   \n",
       "8072   https://www.mmafighting.com/2021/10/25/2274587...   \n",
       "1098   https://www.edexlive.com/news/2021/oct/26/digi...   \n",
       "\n",
       "                                                keywords              creator  \\\n",
       "20062                                                NaN                  NaN   \n",
       "13142  ['Matthew Stafford', 'Wire', 'Detroit Lions', ...  ['Joseph Salvador']   \n",
       "60887                                                NaN             ['wwos']   \n",
       "8072                                                 NaN     ['Damon Martin']   \n",
       "1098                                                 NaN        ['Edex Live']   \n",
       "\n",
       "      video_url                                        description  \\\n",
       "20062       NaN  MONTREAL - A coroner's inquest into a suburban...   \n",
       "13142       NaN  Matthew Stafford threw for 334 yards and three...   \n",
       "60887       NaN  Carlos Sainz and Daniel Ricciardo banged wheel...   \n",
       "8072        NaN                                                NaN   \n",
       "1098        NaN  Under DUK, Dr James is the professor in charge...   \n",
       "\n",
       "                                                 content              pubDate  \\\n",
       "20062  MONTREAL — A coroner’s inquest into a suburban...  2021-10-25 17:56:39   \n",
       "13142  Matthew Stafford threw for 334 yards and three...  2021-10-25 21:04:43   \n",
       "60887  Australia's Daniel Ricciardo has been accused ...  2021-10-24 22:53:20   \n",
       "8072   Free agency has become much more commonplace i...  2021-10-26 01:00:00   \n",
       "1098   The Associate Dean (Academic) of the Digital U...  2021-10-26 06:01:00   \n",
       "\n",
       "                                        full_description  \\\n",
       "20062  MONTREAL — A coroner’s inquest into a suburban...   \n",
       "13142  Rams quarterback Matthew Stafford's wife, Kell...   \n",
       "60887  Australia's Daniel Ricciardo has been accused ...   \n",
       "8072   Free agency has become much more commonplace i...   \n",
       "1098   The Associate Dean (Academic) of the Digital U...   \n",
       "\n",
       "                                               image_url    source_id  \\\n",
       "20062  https://s3.amazonaws.com/socast-superdesk/medi...        panow   \n",
       "13142  http://www.si.com/.image/c_limit%2Ccs_srgb%2Cf...           si   \n",
       "60887  https://vms-network-images-prod.s3-ap-southeas...         nine   \n",
       "8072                                                 NaN  mmafighting   \n",
       "1098   https://images.edexlive.com/uploads/user/image...     edexlive   \n",
       "\n",
       "      detected_language  \n",
       "20062                en  \n",
       "13142                en  \n",
       "60887                en  \n",
       "8072                 en  \n",
       "1098                 en  "
      ]
     },
     "execution_count": 33,
     "metadata": {},
     "output_type": "execute_result"
    }
   ],
   "source": [
    "print(len(english_articles))\n",
    "print(english_articles['content'].str.len().mean())\n",
    "print(english_articles['description'].str.len().mean())\n",
    "\n",
    "print(english_articles['content'].isnull().sum())\n",
    "print(english_articles['title'].isnull().sum())\n",
    "\n",
    "# every article has content and title\n",
    "# 1157 articles\n",
    "# averege size of content is 2100 characters\n",
    "\n",
    "(english_articles.head())"
   ]
  },
  {
   "cell_type": "markdown",
   "metadata": {},
   "source": [
    "### Pipeline Construction\n",
    "1. Summarization pipeline\n",
    "2. Categorization pipline (optional) -- not possible without preassigned labels\n",
    "*does not need to be fully implemented by 11/1 milestone*"
   ]
  },
  {
   "cell_type": "code",
   "execution_count": 4,
   "metadata": {},
   "outputs": [],
   "source": [
    "def summarize(text, per):\n",
    "    nlp = spacy.load('en_core_web_sm')\n",
    "    doc= nlp(text)\n",
    "    tokens=[token.text for token in doc]\n",
    "    word_frequencies={}\n",
    "    for word in doc:\n",
    "        if word.text.lower() not in list(STOP_WORDS):\n",
    "            if word.text.lower() not in punctuation:\n",
    "                if word.text not in word_frequencies.keys():\n",
    "                    word_frequencies[word.text] = 1\n",
    "                else:\n",
    "                    word_frequencies[word.text] += 1\n",
    "    max_frequency=max(word_frequencies.values())\n",
    "    for word in word_frequencies.keys():\n",
    "        word_frequencies[word]=word_frequencies[word]/max_frequency\n",
    "    sentence_tokens= [sent for sent in doc.sents]\n",
    "    sentence_scores = {}\n",
    "    for sent in sentence_tokens:\n",
    "        for word in sent:\n",
    "            if word.text.lower() in word_frequencies.keys():\n",
    "                if sent not in sentence_scores.keys():                            \n",
    "                    sentence_scores[sent]=word_frequencies[word.text.lower()]\n",
    "                else:\n",
    "                    sentence_scores[sent]+=word_frequencies[word.text.lower()]\n",
    "    select_length=int(len(sentence_tokens)*per)\n",
    "    summary=nlargest(select_length, sentence_scores,key=sentence_scores.get)\n",
    "    final_summary=[word.text for word in summary]\n",
    "    summary=''.join(final_summary)\n",
    "    return summary"
   ]
  },
  {
   "cell_type": "markdown",
   "metadata": {},
   "source": [
    "### Creating Summaries\n",
    "\n",
    "Takes about 10 minutes. May need to further reduce the df."
   ]
  },
  {
   "cell_type": "code",
   "execution_count": 67,
   "metadata": {},
   "outputs": [],
   "source": [
    "#print(summarize(english_articles.iloc[0,6], 0.1))\n",
    "#print(english_articles.iloc[0,6])\n",
    "\n",
    "summaries = []\n",
    "for i in range(len(english_articles)):\n",
    "    summary = summarize(english_articles.iloc[i,6], 0.1)\n",
    "    if summary:\n",
    "        summaries.append(summary)"
   ]
  },
  {
   "cell_type": "code",
   "execution_count": 69,
   "metadata": {},
   "outputs": [
    {
     "data": {
      "text/plain": [
       "['MONTREAL — A coroner’s inquest into a suburban Montreal long-term care home where 47 people died during the pandemic’s first wave is hearing from a handful of witnesses this week before it concludes.',\n",
       " 'Stafford was drafted by the Lions with the No. 1 pick in the 2009 draft and leads the franchise in passing yards, passing touchdowns and completions.\\xa0',\n",
       " 'Eels sign boom rookie\"It didn\\'t look too blatant to me, Carlos, taking a bit of a lunge around the outside, I don\\'t think I saw a lot of relative movement,\" he said.The pair were battling for fifth spot on lap 43 of the 56-lap race when Sainz attempted to pass Ricciardo around the outside of a right-handed corner.',\n",
       " '“As far as Nate Diaz goes, I don’t know where Nate feels he is right now and what he feels his future could be if he signs another four- or five-fight deal here, “ White said.“Junior Dos Santos said some stuff the other day that he was upset, and I was all about money and the way that he left [the UFC],” White said.All signs point to Diaz completing his contract and then testing the free agency market, though he could obviously re-sign with the UFC before he books that final fight.',\n",
       " 'According to the Stanford-Elsevier report published last week, the rank is based on the top 100,000 by C-scores (number of citations, excluding self-citations) or a percentile rank of 2 per cent or above.\\xa0 ',\n",
       " 'ECB policymakers will meet on Thursday, with markets hoping for hints on when the bank might start raising historically low interest rates or tweak the pace of bond buying under its massive pandemic-era stimulus programme.ECB policymakers will meet on Thursday, with markets hoping for hints on when the bank might start raising historically low interest rates or tweak the pace of bond buying under its massive pandemic-era stimulus programme.',\n",
       " 'BEIJING — Canada bounced back from an opening loss by winning a pair of round-robin games Sunday at the world wheelchair curling championship.',\n",
       " 'Venus (Williams) wasn’t that keen to talk to me five years ago, I don’t know if I’ll get a double fault or an ace,” He waited for the two to finish their chat before finding his moment to slip into a conversation with the American Tennis star: “Serena, are you good for a chat?This was the redeeming moment of the debacle with Brundle’s quick wit going into overdrive, giving viewers the sharp line before moving on: “I can do that cause I just did.”',\n",
       " 'The committee has been tasked with collecting and examining authentic documents, archives, journals, available in the libraries and other places, seeking comments of eminent personalities and others in this regard, visiting places of relevant historical interests and taking steps as deemed fit to give recognition to the unsung freedom fighters of Arunachal.',\n",
       " 'Citing anonymous sources familiar with the deal, Bloomberg says the cars will be delivered over the next 14 months, part of an ambitious plan by Hertz to electrify its fleet just months after the company escaped bankruptcy.']"
      ]
     },
     "execution_count": 69,
     "metadata": {},
     "output_type": "execute_result"
    }
   ],
   "source": [
    "summaries[:10]"
   ]
  },
  {
   "cell_type": "markdown",
   "metadata": {},
   "source": [
    "### Model Evaluation"
   ]
  }
 ],
 "metadata": {
  "kernelspec": {
   "display_name": "base",
   "language": "python",
   "name": "python3"
  },
  "language_info": {
   "codemirror_mode": {
    "name": "ipython",
    "version": 3
   },
   "file_extension": ".py",
   "mimetype": "text/x-python",
   "name": "python",
   "nbconvert_exporter": "python",
   "pygments_lexer": "ipython3",
   "version": "3.8.8"
  }
 },
 "nbformat": 4,
 "nbformat_minor": 2
}
